{
  "nbformat": 4,
  "nbformat_minor": 0,
  "metadata": {
    "colab": {
      "provenance": [],
      "mount_file_id": "1bWp5IWhtibUc1Rx3tzbIcxOwEJ0Z29L6",
      "authorship_tag": "ABX9TyPyQV2r62ytf2i3YWZIwP/O",
      "include_colab_link": true
    },
    "kernelspec": {
      "name": "python3",
      "display_name": "Python 3"
    },
    "language_info": {
      "name": "python"
    }
  },
  "cells": [
    {
      "cell_type": "markdown",
      "metadata": {
        "id": "view-in-github",
        "colab_type": "text"
      },
      "source": [
        "<a href=\"https://colab.research.google.com/github/harsh-s15/Speech-Emotion-DL/blob/main/spectral_CNN_full.ipynb\" target=\"_parent\"><img src=\"https://colab.research.google.com/assets/colab-badge.svg\" alt=\"Open In Colab\"/></a>"
      ]
    },
    {
      "cell_type": "markdown",
      "source": [
        "## **2D CNN on spectral features - Mel spectrogram as a feature by itself**"
      ],
      "metadata": {
        "id": "xCsdflfDlu0u"
      }
    },
    {
      "cell_type": "code",
      "execution_count": null,
      "metadata": {
        "id": "ymLgkuMnDGeG"
      },
      "outputs": [],
      "source": [
        "import numpy as np \n",
        "import matplotlib.pyplot as plt\n",
        "import librosa\n",
        "import librosa.display\n",
        "import warnings\n",
        "warnings.filterwarnings('ignore')"
      ]
    },
    {
      "cell_type": "code",
      "source": [
        "import tensorflow as tf\n",
        "from keras import layers, models\n",
        "import os, glob, pickle"
      ],
      "metadata": {
        "id": "RfULGHe9EDwR"
      },
      "execution_count": null,
      "outputs": []
    },
    {
      "cell_type": "code",
      "source": [
        "from sklearn.model_selection import train_test_split\n",
        "from sklearn.neural_network import MLPClassifier\n",
        "from sklearn.metrics import accuracy_score"
      ],
      "metadata": {
        "id": "c3tU_B9cEDl5"
      },
      "execution_count": null,
      "outputs": []
    },
    {
      "cell_type": "code",
      "source": [
        "root = r'/content/drive/MyDrive/ser_updated/speech-emotion-recognition-ravdess-data/'"
      ],
      "metadata": {
        "id": "afbA1wgr_nW0"
      },
      "execution_count": null,
      "outputs": []
    },
    {
      "cell_type": "code",
      "source": [
        "emotions={\n",
        "  '01':'neutral',\n",
        "  '02':'calm',\n",
        "  '03':'happy',\n",
        "  '04':'sad',\n",
        "  '05':'angry',\n",
        "  '06':'fearful',\n",
        "  '07':'disgust',\n",
        "  '08':'surprised'\n",
        "}\n",
        "\n",
        "#Emotions to observe\n",
        "observed_emotions=emotions.values()"
      ],
      "metadata": {
        "id": "n79rNo2YEDk7"
      },
      "execution_count": null,
      "outputs": []
    },
    {
      "cell_type": "code",
      "source": [
        "def load_audio(audio_path, duration):\n",
        "    audio, sr = librosa.load(audio_path, duration=duration)\n",
        "    spec = librosa.feature.melspectrogram(y=audio, sr=sr, n_mels=128)\n",
        "    spec_db = librosa.power_to_db(spec, ref=np.max)\n",
        "    spec_db = spec_db.astype('float32')\n",
        "    return spec_db"
      ],
      "metadata": {
        "id": "accUV1wW_emQ"
      },
      "execution_count": null,
      "outputs": []
    },
    {
      "cell_type": "code",
      "source": [
        "def preprocess_data():\n",
        "    x,y = [],[]\n",
        "    for file in glob.glob(root + r'/Actor_*/*'):\n",
        "        file_name=os.path.basename(file)\n",
        "        emotion=emotions[file_name.split(\"-\")[2]]\n",
        "        if emotion not in observed_emotions:\n",
        "            continue\n",
        "        spec_db = load_audio(file, 3)\n",
        "        if spec_db.shape != (128,130):\n",
        "            continue\n",
        "        x.append(spec_db)\n",
        "        y.append(emotion)\n",
        "\n",
        "    return np.array(x), np.array(y)"
      ],
      "metadata": {
        "id": "sfKCQcgAEDgJ"
      },
      "execution_count": null,
      "outputs": []
    },
    {
      "cell_type": "code",
      "source": [
        "X, y = preprocess_data()"
      ],
      "metadata": {
        "id": "T0Fq6Lx1xAiS"
      },
      "execution_count": null,
      "outputs": []
    },
    {
      "cell_type": "code",
      "source": [
        "# Encode labels as integers\n",
        "label_map = {label: i for i, label in enumerate(np.unique(y))}\n",
        "y = np.array([label_map[label] for label in y])\n",
        "\n",
        "X_train, X_test, y_train, y_test = train_test_split(X, y, test_size=0.2, random_state=42)"
      ],
      "metadata": {
        "id": "1x3HLXqtEDd6"
      },
      "execution_count": null,
      "outputs": []
    },
    {
      "cell_type": "code",
      "source": [
        "print(X_train.shape, y_train.shape)"
      ],
      "metadata": {
        "id": "EpWN1dXeEDc7",
        "colab": {
          "base_uri": "https://localhost:8080/"
        },
        "outputId": "4654b124-5f4a-4135-c669-a9a64dbc754a"
      },
      "execution_count": null,
      "outputs": [
        {
          "output_type": "stream",
          "name": "stdout",
          "text": [
            "(1150, 128, 130) (1150,)\n"
          ]
        }
      ]
    },
    {
      "cell_type": "code",
      "source": [
        "x_traincnn = np.expand_dims(X_train, axis=3)\n",
        "x_testcnn = np.expand_dims(X_test, axis=3)"
      ],
      "metadata": {
        "id": "57PbpaXGEDY-"
      },
      "execution_count": null,
      "outputs": []
    },
    {
      "cell_type": "code",
      "source": [
        "x_traincnn.shape"
      ],
      "metadata": {
        "id": "e7CCJfnNEDXa",
        "colab": {
          "base_uri": "https://localhost:8080/"
        },
        "outputId": "999e0935-fd03-48fd-c493-0f9f8eae8142"
      },
      "execution_count": null,
      "outputs": [
        {
          "output_type": "execute_result",
          "data": {
            "text/plain": [
              "(1150, 128, 130, 1)"
            ]
          },
          "metadata": {},
          "execution_count": 20
        }
      ]
    },
    {
      "cell_type": "code",
      "source": [
        "input_shape = x_traincnn.shape[1:]\n",
        "num_classes = 8\n",
        "input_shape"
      ],
      "metadata": {
        "id": "yN5QpUP1EDWs",
        "colab": {
          "base_uri": "https://localhost:8080/"
        },
        "outputId": "974b597a-1935-4121-c3a7-6259758c6d70"
      },
      "execution_count": null,
      "outputs": [
        {
          "output_type": "execute_result",
          "data": {
            "text/plain": [
              "(128, 130, 1)"
            ]
          },
          "metadata": {},
          "execution_count": 22
        }
      ]
    },
    {
      "cell_type": "code",
      "source": [
        "def create_model(input_shape, num_classes):\n",
        "    model = models.Sequential()\n",
        "    model.add(layers.Conv2D(32, kernel_size=(3, 3), activation='relu', input_shape=input_shape))\n",
        "    model.add(layers.MaxPooling2D(pool_size=(2, 2)))\n",
        "    model.add(layers.Conv2D(64, kernel_size=(3, 3), activation='relu'))\n",
        "    model.add(layers.MaxPooling2D(pool_size=(2, 2)))\n",
        "    model.add(layers.Flatten())\n",
        "    model.add(layers.Dense(128, activation='relu'))\n",
        "    model.add(layers.Dropout(0.5))\n",
        "    model.add(layers.Dense(num_classes, activation='softmax'))\n",
        "    return model"
      ],
      "metadata": {
        "id": "Rznwt04BEDSR"
      },
      "execution_count": null,
      "outputs": []
    },
    {
      "cell_type": "code",
      "source": [
        "model = create_model(input_shape,num_classes)\n",
        "model.summary()"
      ],
      "metadata": {
        "id": "ml7uTkkHEDP_",
        "colab": {
          "base_uri": "https://localhost:8080/"
        },
        "outputId": "b452d3c4-ecb3-4004-b332-2d1c7907d98d"
      },
      "execution_count": null,
      "outputs": [
        {
          "output_type": "stream",
          "name": "stdout",
          "text": [
            "Model: \"sequential\"\n",
            "_________________________________________________________________\n",
            " Layer (type)                Output Shape              Param #   \n",
            "=================================================================\n",
            " conv2d (Conv2D)             (None, 126, 128, 32)      320       \n",
            "                                                                 \n",
            " max_pooling2d (MaxPooling2D  (None, 63, 64, 32)       0         \n",
            " )                                                               \n",
            "                                                                 \n",
            " conv2d_1 (Conv2D)           (None, 61, 62, 64)        18496     \n",
            "                                                                 \n",
            " max_pooling2d_1 (MaxPooling  (None, 30, 31, 64)       0         \n",
            " 2D)                                                             \n",
            "                                                                 \n",
            " flatten (Flatten)           (None, 59520)             0         \n",
            "                                                                 \n",
            " dense (Dense)               (None, 128)               7618688   \n",
            "                                                                 \n",
            " dropout (Dropout)           (None, 128)               0         \n",
            "                                                                 \n",
            " dense_1 (Dense)             (None, 8)                 1032      \n",
            "                                                                 \n",
            "=================================================================\n",
            "Total params: 7,638,536\n",
            "Trainable params: 7,638,536\n",
            "Non-trainable params: 0\n",
            "_________________________________________________________________\n"
          ]
        }
      ]
    },
    {
      "cell_type": "code",
      "source": [
        "model.compile(optimizer='adam', loss='sparse_categorical_crossentropy', metrics=['accuracy'])"
      ],
      "metadata": {
        "id": "QP4qIjmCEDO0"
      },
      "execution_count": null,
      "outputs": []
    },
    {
      "cell_type": "code",
      "source": [
        "cnnhistory = model.fit(x_traincnn, y_train, batch_size=16, epochs=100, validation_data=(x_testcnn, y_test))"
      ],
      "metadata": {
        "id": "LOTxrydEEDLY",
        "colab": {
          "base_uri": "https://localhost:8080/"
        },
        "outputId": "a4e0f9c6-baff-4451-8e3b-51ccfeabef71"
      },
      "execution_count": null,
      "outputs": [
        {
          "output_type": "stream",
          "name": "stdout",
          "text": [
            "Epoch 1/100\n",
            "72/72 [==============================] - 36s 477ms/step - loss: 15.9909 - accuracy: 0.1330 - val_loss: 2.0634 - val_accuracy: 0.1458\n",
            "Epoch 2/100\n",
            "72/72 [==============================] - 36s 492ms/step - loss: 2.0713 - accuracy: 0.1452 - val_loss: 2.0751 - val_accuracy: 0.1250\n",
            "Epoch 3/100\n",
            "72/72 [==============================] - 34s 469ms/step - loss: 2.0727 - accuracy: 0.1443 - val_loss: 2.0719 - val_accuracy: 0.1562\n",
            "Epoch 4/100\n",
            "72/72 [==============================] - 34s 467ms/step - loss: 2.0458 - accuracy: 0.1730 - val_loss: 2.0688 - val_accuracy: 0.1250\n",
            "Epoch 5/100\n",
            "72/72 [==============================] - 33s 449ms/step - loss: 2.0153 - accuracy: 0.2070 - val_loss: 1.8290 - val_accuracy: 0.3299\n",
            "Epoch 6/100\n",
            "72/72 [==============================] - 32s 444ms/step - loss: 1.7754 - accuracy: 0.3096 - val_loss: 1.6415 - val_accuracy: 0.4028\n",
            "Epoch 7/100\n",
            "72/72 [==============================] - 35s 489ms/step - loss: 1.6260 - accuracy: 0.3826 - val_loss: 1.6053 - val_accuracy: 0.4306\n",
            "Epoch 8/100\n",
            "72/72 [==============================] - 33s 466ms/step - loss: 1.5130 - accuracy: 0.4296 - val_loss: 1.5312 - val_accuracy: 0.4410\n",
            "Epoch 9/100\n",
            "72/72 [==============================] - 35s 484ms/step - loss: 1.3969 - accuracy: 0.4852 - val_loss: 1.4799 - val_accuracy: 0.4375\n",
            "Epoch 10/100\n",
            "72/72 [==============================] - 34s 467ms/step - loss: 1.2543 - accuracy: 0.5243 - val_loss: 1.4401 - val_accuracy: 0.4618\n",
            "Epoch 11/100\n",
            "72/72 [==============================] - 36s 498ms/step - loss: 1.1498 - accuracy: 0.5739 - val_loss: 1.4193 - val_accuracy: 0.4688\n",
            "Epoch 12/100\n",
            "72/72 [==============================] - 34s 480ms/step - loss: 1.0662 - accuracy: 0.6130 - val_loss: 1.4555 - val_accuracy: 0.4792\n",
            "Epoch 13/100\n",
            "72/72 [==============================] - 34s 469ms/step - loss: 1.0162 - accuracy: 0.6226 - val_loss: 1.3783 - val_accuracy: 0.5000\n",
            "Epoch 14/100\n",
            "72/72 [==============================] - 34s 477ms/step - loss: 0.9281 - accuracy: 0.6496 - val_loss: 1.4503 - val_accuracy: 0.4583\n",
            "Epoch 15/100\n",
            "72/72 [==============================] - 35s 481ms/step - loss: 0.8770 - accuracy: 0.6765 - val_loss: 1.4233 - val_accuracy: 0.5243\n",
            "Epoch 16/100\n",
            "72/72 [==============================] - 34s 477ms/step - loss: 0.7958 - accuracy: 0.6878 - val_loss: 1.4106 - val_accuracy: 0.5035\n",
            "Epoch 17/100\n",
            "72/72 [==============================] - 34s 467ms/step - loss: 0.7895 - accuracy: 0.7052 - val_loss: 1.4114 - val_accuracy: 0.5208\n",
            "Epoch 18/100\n",
            "72/72 [==============================] - 34s 467ms/step - loss: 0.7365 - accuracy: 0.7165 - val_loss: 1.4682 - val_accuracy: 0.5139\n",
            "Epoch 19/100\n",
            "72/72 [==============================] - 35s 484ms/step - loss: 0.6680 - accuracy: 0.7417 - val_loss: 1.4476 - val_accuracy: 0.5312\n",
            "Epoch 20/100\n",
            "72/72 [==============================] - 34s 477ms/step - loss: 0.5924 - accuracy: 0.7835 - val_loss: 1.5787 - val_accuracy: 0.5139\n",
            "Epoch 21/100\n",
            "72/72 [==============================] - 33s 461ms/step - loss: 0.5989 - accuracy: 0.7774 - val_loss: 1.5506 - val_accuracy: 0.5312\n",
            "Epoch 22/100\n",
            "72/72 [==============================] - 42s 581ms/step - loss: 0.6031 - accuracy: 0.7670 - val_loss: 1.6000 - val_accuracy: 0.5417\n",
            "Epoch 23/100\n",
            "72/72 [==============================] - 34s 466ms/step - loss: 0.5405 - accuracy: 0.7852 - val_loss: 1.6255 - val_accuracy: 0.5417\n",
            "Epoch 24/100\n",
            "72/72 [==============================] - 35s 484ms/step - loss: 0.4870 - accuracy: 0.8235 - val_loss: 1.5813 - val_accuracy: 0.5521\n",
            "Epoch 25/100\n",
            "72/72 [==============================] - 33s 463ms/step - loss: 0.4965 - accuracy: 0.8122 - val_loss: 1.7928 - val_accuracy: 0.5451\n",
            "Epoch 26/100\n",
            "72/72 [==============================] - 36s 503ms/step - loss: 0.4494 - accuracy: 0.8130 - val_loss: 1.7362 - val_accuracy: 0.5069\n",
            "Epoch 27/100\n",
            "72/72 [==============================] - 34s 479ms/step - loss: 0.4232 - accuracy: 0.8357 - val_loss: 1.8035 - val_accuracy: 0.5486\n",
            "Epoch 28/100\n",
            "72/72 [==============================] - 36s 500ms/step - loss: 0.4597 - accuracy: 0.8391 - val_loss: 1.8340 - val_accuracy: 0.5312\n",
            "Epoch 29/100\n",
            "72/72 [==============================] - 34s 479ms/step - loss: 0.3945 - accuracy: 0.8470 - val_loss: 1.8751 - val_accuracy: 0.5556\n",
            "Epoch 30/100\n",
            "72/72 [==============================] - 35s 481ms/step - loss: 0.4124 - accuracy: 0.8400 - val_loss: 1.8752 - val_accuracy: 0.5312\n",
            "Epoch 31/100\n",
            "72/72 [==============================] - 35s 485ms/step - loss: 0.4025 - accuracy: 0.8583 - val_loss: 1.8095 - val_accuracy: 0.5347\n",
            "Epoch 32/100\n",
            "72/72 [==============================] - 33s 461ms/step - loss: 0.3648 - accuracy: 0.8557 - val_loss: 2.0081 - val_accuracy: 0.5521\n",
            "Epoch 33/100\n",
            "72/72 [==============================] - 35s 485ms/step - loss: 0.3396 - accuracy: 0.8670 - val_loss: 1.9045 - val_accuracy: 0.5208\n",
            "Epoch 34/100\n",
            "72/72 [==============================] - 33s 458ms/step - loss: 0.3037 - accuracy: 0.8930 - val_loss: 2.6148 - val_accuracy: 0.5243\n",
            "Epoch 35/100\n",
            "72/72 [==============================] - 35s 485ms/step - loss: 0.3774 - accuracy: 0.8504 - val_loss: 2.1400 - val_accuracy: 0.5208\n",
            "Epoch 36/100\n",
            "72/72 [==============================] - 35s 485ms/step - loss: 0.3642 - accuracy: 0.8496 - val_loss: 2.1843 - val_accuracy: 0.5174\n",
            "Epoch 37/100\n",
            "72/72 [==============================] - 36s 504ms/step - loss: 0.3301 - accuracy: 0.8757 - val_loss: 2.1289 - val_accuracy: 0.5417\n",
            "Epoch 38/100\n",
            "72/72 [==============================] - 34s 471ms/step - loss: 0.2912 - accuracy: 0.8878 - val_loss: 2.1177 - val_accuracy: 0.5243\n",
            "Epoch 39/100\n",
            "72/72 [==============================] - 35s 487ms/step - loss: 0.3375 - accuracy: 0.8765 - val_loss: 2.0913 - val_accuracy: 0.5243\n",
            "Epoch 40/100\n",
            "72/72 [==============================] - 40s 564ms/step - loss: 0.3212 - accuracy: 0.8800 - val_loss: 2.3150 - val_accuracy: 0.5069\n",
            "Epoch 41/100\n",
            "72/72 [==============================] - 33s 462ms/step - loss: 0.2600 - accuracy: 0.9061 - val_loss: 2.2147 - val_accuracy: 0.5347\n",
            "Epoch 42/100\n",
            "72/72 [==============================] - 35s 488ms/step - loss: 0.2918 - accuracy: 0.8835 - val_loss: 2.3245 - val_accuracy: 0.5660\n",
            "Epoch 43/100\n",
            "72/72 [==============================] - 33s 463ms/step - loss: 0.2841 - accuracy: 0.8887 - val_loss: 2.3500 - val_accuracy: 0.5312\n",
            "Epoch 44/100\n",
            "72/72 [==============================] - 35s 494ms/step - loss: 0.2564 - accuracy: 0.9035 - val_loss: 2.4539 - val_accuracy: 0.5104\n",
            "Epoch 45/100\n",
            "72/72 [==============================] - 33s 460ms/step - loss: 0.3040 - accuracy: 0.8852 - val_loss: 2.4375 - val_accuracy: 0.5382\n",
            "Epoch 46/100\n",
            "72/72 [==============================] - 36s 495ms/step - loss: 0.3135 - accuracy: 0.8817 - val_loss: 2.2644 - val_accuracy: 0.5312\n",
            "Epoch 47/100\n",
            "72/72 [==============================] - 33s 463ms/step - loss: 0.2707 - accuracy: 0.8983 - val_loss: 2.3992 - val_accuracy: 0.5312\n",
            "Epoch 48/100\n",
            "72/72 [==============================] - 35s 488ms/step - loss: 0.2868 - accuracy: 0.8957 - val_loss: 2.2248 - val_accuracy: 0.5139\n",
            "Epoch 49/100\n",
            "72/72 [==============================] - 35s 483ms/step - loss: 0.2421 - accuracy: 0.9061 - val_loss: 2.6298 - val_accuracy: 0.5660\n",
            "Epoch 50/100\n",
            "72/72 [==============================] - 35s 490ms/step - loss: 0.3044 - accuracy: 0.8800 - val_loss: 2.5693 - val_accuracy: 0.5312\n",
            "Epoch 51/100\n",
            "72/72 [==============================] - 34s 480ms/step - loss: 0.2360 - accuracy: 0.9104 - val_loss: 2.4183 - val_accuracy: 0.5174\n",
            "Epoch 52/100\n",
            "72/72 [==============================] - 36s 507ms/step - loss: 0.2274 - accuracy: 0.9183 - val_loss: 2.7061 - val_accuracy: 0.5208\n",
            "Epoch 53/100\n",
            "72/72 [==============================] - 34s 477ms/step - loss: 0.2829 - accuracy: 0.8922 - val_loss: 2.5907 - val_accuracy: 0.5139\n",
            "Epoch 54/100\n",
            "72/72 [==============================] - 34s 468ms/step - loss: 0.2671 - accuracy: 0.8939 - val_loss: 2.6772 - val_accuracy: 0.5243\n",
            "Epoch 55/100\n",
            "72/72 [==============================] - 35s 484ms/step - loss: 0.2596 - accuracy: 0.9009 - val_loss: 2.7375 - val_accuracy: 0.5243\n",
            "Epoch 56/100\n",
            "72/72 [==============================] - 34s 465ms/step - loss: 0.2338 - accuracy: 0.9043 - val_loss: 3.1333 - val_accuracy: 0.5347\n",
            "Epoch 57/100\n",
            "72/72 [==============================] - 41s 572ms/step - loss: 0.2523 - accuracy: 0.8983 - val_loss: 3.0328 - val_accuracy: 0.5451\n",
            "Epoch 58/100\n",
            "72/72 [==============================] - 35s 481ms/step - loss: 0.2414 - accuracy: 0.9017 - val_loss: 3.0422 - val_accuracy: 0.5521\n",
            "Epoch 59/100\n",
            "72/72 [==============================] - 34s 469ms/step - loss: 0.2463 - accuracy: 0.9009 - val_loss: 3.0215 - val_accuracy: 0.5278\n",
            "Epoch 60/100\n",
            "72/72 [==============================] - 37s 516ms/step - loss: 0.2404 - accuracy: 0.9000 - val_loss: 2.6948 - val_accuracy: 0.5556\n",
            "Epoch 61/100\n",
            "72/72 [==============================] - 34s 480ms/step - loss: 0.2442 - accuracy: 0.9035 - val_loss: 2.5426 - val_accuracy: 0.5243\n",
            "Epoch 62/100\n",
            "72/72 [==============================] - 35s 487ms/step - loss: 0.2156 - accuracy: 0.9243 - val_loss: 2.7355 - val_accuracy: 0.5278\n",
            "Epoch 63/100\n",
            "72/72 [==============================] - 33s 464ms/step - loss: 0.2415 - accuracy: 0.9026 - val_loss: 2.6275 - val_accuracy: 0.5243\n",
            "Epoch 64/100\n",
            "72/72 [==============================] - 36s 502ms/step - loss: 0.2123 - accuracy: 0.9183 - val_loss: 2.6363 - val_accuracy: 0.5312\n",
            "Epoch 65/100\n",
            "72/72 [==============================] - 35s 481ms/step - loss: 0.2285 - accuracy: 0.9104 - val_loss: 2.6079 - val_accuracy: 0.5312\n",
            "Epoch 66/100\n",
            "72/72 [==============================] - 34s 467ms/step - loss: 0.2121 - accuracy: 0.9139 - val_loss: 2.8598 - val_accuracy: 0.5243\n",
            "Epoch 67/100\n",
            "72/72 [==============================] - 34s 469ms/step - loss: 0.2293 - accuracy: 0.9052 - val_loss: 2.5595 - val_accuracy: 0.5104\n",
            "Epoch 68/100\n",
            "72/72 [==============================] - 35s 489ms/step - loss: 0.2046 - accuracy: 0.9217 - val_loss: 2.8892 - val_accuracy: 0.5417\n",
            "Epoch 69/100\n",
            "72/72 [==============================] - 37s 517ms/step - loss: 0.1890 - accuracy: 0.9261 - val_loss: 3.8012 - val_accuracy: 0.5382\n",
            "Epoch 70/100\n",
            "72/72 [==============================] - 33s 461ms/step - loss: 0.2460 - accuracy: 0.8983 - val_loss: 2.5532 - val_accuracy: 0.5278\n",
            "Epoch 71/100\n",
            "72/72 [==============================] - 35s 493ms/step - loss: 0.1988 - accuracy: 0.9226 - val_loss: 3.0924 - val_accuracy: 0.5243\n",
            "Epoch 72/100\n",
            "72/72 [==============================] - 33s 460ms/step - loss: 0.2153 - accuracy: 0.9130 - val_loss: 2.9588 - val_accuracy: 0.5174\n",
            "Epoch 73/100\n",
            "72/72 [==============================] - 33s 455ms/step - loss: 0.2265 - accuracy: 0.9113 - val_loss: 2.9700 - val_accuracy: 0.5104\n",
            "Epoch 74/100\n",
            "72/72 [==============================] - 33s 460ms/step - loss: 0.1778 - accuracy: 0.9148 - val_loss: 3.0412 - val_accuracy: 0.5104\n",
            "Epoch 75/100\n",
            "72/72 [==============================] - 38s 533ms/step - loss: 0.1895 - accuracy: 0.9191 - val_loss: 3.5397 - val_accuracy: 0.4896\n",
            "Epoch 76/100\n",
            "72/72 [==============================] - 33s 464ms/step - loss: 0.3104 - accuracy: 0.8878 - val_loss: 3.3285 - val_accuracy: 0.5486\n",
            "Epoch 77/100\n",
            "72/72 [==============================] - 36s 504ms/step - loss: 0.2095 - accuracy: 0.9252 - val_loss: 3.1503 - val_accuracy: 0.5174\n",
            "Epoch 78/100\n",
            "72/72 [==============================] - 34s 478ms/step - loss: 0.2325 - accuracy: 0.9096 - val_loss: 2.8466 - val_accuracy: 0.5035\n",
            "Epoch 79/100\n",
            "72/72 [==============================] - 35s 486ms/step - loss: 0.2125 - accuracy: 0.9148 - val_loss: 2.7950 - val_accuracy: 0.5243\n",
            "Epoch 80/100\n",
            "72/72 [==============================] - 34s 478ms/step - loss: 0.2060 - accuracy: 0.9191 - val_loss: 2.9572 - val_accuracy: 0.5312\n",
            "Epoch 81/100\n",
            "72/72 [==============================] - 35s 486ms/step - loss: 0.2276 - accuracy: 0.9139 - val_loss: 3.5960 - val_accuracy: 0.5278\n",
            "Epoch 82/100\n",
            "72/72 [==============================] - 34s 477ms/step - loss: 0.2000 - accuracy: 0.9209 - val_loss: 3.1271 - val_accuracy: 0.5035\n",
            "Epoch 83/100\n",
            "72/72 [==============================] - 34s 462ms/step - loss: 0.1413 - accuracy: 0.9504 - val_loss: 2.9609 - val_accuracy: 0.5000\n",
            "Epoch 84/100\n",
            "72/72 [==============================] - 33s 465ms/step - loss: 0.1953 - accuracy: 0.9157 - val_loss: 3.5212 - val_accuracy: 0.5208\n",
            "Epoch 85/100\n",
            "72/72 [==============================] - 36s 491ms/step - loss: 0.1901 - accuracy: 0.9200 - val_loss: 2.9507 - val_accuracy: 0.5521\n",
            "Epoch 86/100\n",
            "72/72 [==============================] - 34s 477ms/step - loss: 0.2435 - accuracy: 0.9070 - val_loss: 2.9302 - val_accuracy: 0.5451\n",
            "Epoch 87/100\n",
            "72/72 [==============================] - 35s 485ms/step - loss: 0.1910 - accuracy: 0.9252 - val_loss: 2.8540 - val_accuracy: 0.5417\n",
            "Epoch 88/100\n",
            "72/72 [==============================] - 35s 487ms/step - loss: 0.1655 - accuracy: 0.9322 - val_loss: 3.8342 - val_accuracy: 0.5486\n",
            "Epoch 89/100\n",
            "72/72 [==============================] - 34s 477ms/step - loss: 0.2481 - accuracy: 0.9078 - val_loss: 3.2277 - val_accuracy: 0.5208\n",
            "Epoch 90/100\n",
            "72/72 [==============================] - 35s 482ms/step - loss: 0.1779 - accuracy: 0.9296 - val_loss: 2.8733 - val_accuracy: 0.5243\n",
            "Epoch 91/100\n",
            "72/72 [==============================] - 34s 480ms/step - loss: 0.1871 - accuracy: 0.9226 - val_loss: 3.3881 - val_accuracy: 0.5451\n",
            "Epoch 92/100\n",
            "72/72 [==============================] - 42s 584ms/step - loss: 0.1671 - accuracy: 0.9365 - val_loss: 3.3795 - val_accuracy: 0.5347\n",
            "Epoch 93/100\n",
            "72/72 [==============================] - 35s 491ms/step - loss: 0.1497 - accuracy: 0.9504 - val_loss: 3.6074 - val_accuracy: 0.5347\n",
            "Epoch 94/100\n",
            "72/72 [==============================] - 33s 461ms/step - loss: 0.1864 - accuracy: 0.9226 - val_loss: 3.5576 - val_accuracy: 0.5417\n",
            "Epoch 95/100\n",
            "72/72 [==============================] - 36s 497ms/step - loss: 0.1826 - accuracy: 0.9400 - val_loss: 2.8759 - val_accuracy: 0.5451\n",
            "Epoch 96/100\n",
            "72/72 [==============================] - 34s 471ms/step - loss: 0.1999 - accuracy: 0.9217 - val_loss: 3.3022 - val_accuracy: 0.5382\n",
            "Epoch 97/100\n",
            "72/72 [==============================] - 35s 491ms/step - loss: 0.1646 - accuracy: 0.9330 - val_loss: 3.1930 - val_accuracy: 0.5660\n",
            "Epoch 98/100\n",
            "72/72 [==============================] - 35s 488ms/step - loss: 0.2085 - accuracy: 0.9217 - val_loss: 3.2553 - val_accuracy: 0.5417\n",
            "Epoch 99/100\n",
            "72/72 [==============================] - 35s 480ms/step - loss: 0.2064 - accuracy: 0.9226 - val_loss: 2.9796 - val_accuracy: 0.5521\n",
            "Epoch 100/100\n",
            "72/72 [==============================] - 34s 469ms/step - loss: 0.1813 - accuracy: 0.9296 - val_loss: 3.7220 - val_accuracy: 0.5312\n"
          ]
        }
      ]
    },
    {
      "cell_type": "code",
      "source": [
        "plt.figure(figsize=(6,5))\n",
        "plt.plot(cnnhistory.history['accuracy'])\n",
        "plt.plot(cnnhistory.history['val_accuracy'])\n",
        "plt.title('model accuracy')\n",
        "plt.ylabel('accuracy')\n",
        "plt.xlabel('epoch')\n",
        "plt.legend(['train', 'val'], loc='lower right')\n",
        "plt.grid()\n",
        "plt.show()"
      ],
      "metadata": {
        "id": "BrnfhKpsEDJ4",
        "colab": {
          "base_uri": "https://localhost:8080/",
          "height": 487
        },
        "outputId": "50131dd1-4b1b-40d8-cbf2-5bc0a540c536"
      },
      "execution_count": null,
      "outputs": [
        {
          "output_type": "display_data",
          "data": {
            "text/plain": [
              "<Figure size 600x500 with 1 Axes>"
            ],
            "image/png": "[encoded data removed]"
          },
          "metadata": {}
        }
      ]
    },
    {
      "cell_type": "code",
      "source": [
        "plt.figure(figsize=(6,5))\n",
        "plt.plot(cnnhistory.history['loss'],'blue')\n",
        "plt.plot(cnnhistory.history['val_loss'],'green')\n",
        "plt.title('model loss')\n",
        "plt.ylabel('Cross Entropy loss')\n",
        "plt.xlabel('epoch')\n",
        "plt.legend(['train', 'val'], loc='upper right')\n",
        "plt.grid()\n",
        "plt.show()"
      ],
      "metadata": {
        "id": "2I10g95lEDG_",
        "colab": {
          "base_uri": "https://localhost:8080/",
          "height": 487
        },
        "outputId": "8bfcdd2f-f64f-4800-ae81-fc2a19233013"
      },
      "execution_count": null,
      "outputs": [
        {
          "output_type": "display_data",
          "data": {
            "text/plain": [
              "<Figure size 600x500 with 1 Axes>"
            ],
            "image/png": "[encoded data removed]"
          },
          "metadata": {}
        }
      ]
    },
    {
      "cell_type": "code",
      "source": [
        "test_loss, test_acc = model.evaluate(x_testcnn, y_test)\n",
        "print('Test accuracy:', test_acc)"
      ],
      "metadata": {
        "id": "xto1PLmsEDEh",
        "colab": {
          "base_uri": "https://localhost:8080/"
        },
        "outputId": "5030bbfd-d2d1-4068-d81b-592fb57ebc15"
      },
      "execution_count": null,
      "outputs": [
        {
          "output_type": "stream",
          "name": "stdout",
          "text": [
            "9/9 [==============================] - 5s 461ms/step - loss: 3.7220 - accuracy: 0.5312\n",
            "Test accuracy: 0.53125\n"
          ]
        }
      ]
    }
  ]
}