{
  "nbformat": 4,
  "nbformat_minor": 0,
  "metadata": {
    "colab": {
      "provenance": [],
      "mount_file_id": "1yL1eqaiKmwCIwocgai5x2X1jZ0MnqsoG",
      "authorship_tag": "ABX9TyN00VE8ZaMWz+YB0hLoIexU",
      "include_colab_link": true
    },
    "kernelspec": {
      "name": "python3",
      "display_name": "Python 3"
    },
    "language_info": {
      "name": "python"
    }
  },
  "cells": [
    {
      "cell_type": "markdown",
      "metadata": {
        "id": "view-in-github",
        "colab_type": "text"
      },
      "source": [
        "<a href=\"https://colab.research.google.com/github/harsh-s15/Speech-Emotion-DL/blob/main/spectral_CNN_dist.ipynb\" target=\"_parent\"><img src=\"https://colab.research.google.com/assets/colab-badge.svg\" alt=\"Open In Colab\"/></a>"
      ]
    },
    {
      "cell_type": "markdown",
      "source": [
        "## **2D CNN on spectral features**"
      ],
      "metadata": {
        "id": "G7oWakJ0lNUB"
      }
    },
    {
      "cell_type": "markdown",
      "source": [
        "---\n",
        "refined dataset"
      ],
      "metadata": {
        "id": "4jXCg7B5lcSv"
      }
    },
    {
      "cell_type": "code",
      "execution_count": null,
      "metadata": {
        "id": "ymLgkuMnDGeG"
      },
      "outputs": [],
      "source": [
        "import numpy as np \n",
        "import matplotlib.pyplot as plt\n",
        "import librosa\n",
        "import librosa.display\n",
        "import warnings\n",
        "warnings.filterwarnings('ignore')"
      ]
    },
    {
      "cell_type": "code",
      "source": [
        "import tensorflow as tf\n",
        "from keras import layers, models\n",
        "import os, glob, pickle"
      ],
      "metadata": {
        "id": "RfULGHe9EDwR"
      },
      "execution_count": null,
      "outputs": []
    },
    {
      "cell_type": "code",
      "source": [
        "from sklearn.model_selection import train_test_split\n",
        "from sklearn.neural_network import MLPClassifier\n",
        "from sklearn.metrics import accuracy_score"
      ],
      "metadata": {
        "id": "c3tU_B9cEDl5"
      },
      "execution_count": null,
      "outputs": []
    },
    {
      "cell_type": "code",
      "source": [
        "root = r'/content/drive/MyDrive/ser_updated/speech-emotion-recognition-ravdess-data/'"
      ],
      "metadata": {
        "id": "yQYz3sOwHsYM"
      },
      "execution_count": null,
      "outputs": []
    },
    {
      "cell_type": "code",
      "source": [
        "emotions={\n",
        "  '01':'neutral',\n",
        "  '02':'calm',\n",
        "  '03':'happy',\n",
        "  '04':'sad',\n",
        "  '05':'angry',\n",
        "  '06':'fearful',\n",
        "  '07':'disgust',\n",
        "  '08':'surprised'\n",
        "}\n",
        "\n",
        "#Emotions to observe\n",
        "observed_emotions=['calm', 'angry', 'fearful', 'disgust']"
      ],
      "metadata": {
        "id": "n79rNo2YEDk7"
      },
      "execution_count": null,
      "outputs": []
    },
    {
      "cell_type": "code",
      "source": [
        "def load_audio(audio_path, duration):\n",
        "    audio, sr = librosa.load(audio_path, duration=duration)\n",
        "    spec = librosa.feature.melspectrogram(y=audio, sr=sr, n_mels=128)\n",
        "    spec_db = librosa.power_to_db(spec, ref=np.max)\n",
        "    spec_db = spec_db.astype('float32')\n",
        "    return spec_db"
      ],
      "metadata": {
        "id": "sfKCQcgAEDgJ"
      },
      "execution_count": null,
      "outputs": []
    },
    {
      "cell_type": "code",
      "source": [
        "def preprocess_data():\n",
        "    x,y = [],[]\n",
        "    for file in glob.glob(root + r'/Actor_*/*'):\n",
        "        file_name=os.path.basename(file)\n",
        "        emotion=emotions[file_name.split(\"-\")[2]]\n",
        "        if emotion not in observed_emotions:\n",
        "            continue\n",
        "        spec_db = load_audio(file, 3)\n",
        "        if spec_db.shape != (128,130):\n",
        "            continue\n",
        "        x.append(spec_db)\n",
        "        y.append(emotion)\n",
        "\n",
        "    return np.array(x), np.array(y)"
      ],
      "metadata": {
        "id": "pWianoI3H0tu"
      },
      "execution_count": null,
      "outputs": []
    },
    {
      "cell_type": "code",
      "source": [
        "X, y = preprocess_data()"
      ],
      "metadata": {
        "id": "rvoD8W7TH3hC"
      },
      "execution_count": null,
      "outputs": []
    },
    {
      "cell_type": "code",
      "source": [
        "# Encode labels as integers\n",
        "label_map = {label: i for i, label in enumerate(np.unique(y))}\n",
        "y = np.array([label_map[label] for label in y])\n",
        "\n",
        "X_train, X_test, y_train, y_test = train_test_split(X, y, test_size=0.2, random_state=42)"
      ],
      "metadata": {
        "id": "1x3HLXqtEDd6"
      },
      "execution_count": null,
      "outputs": []
    },
    {
      "cell_type": "code",
      "source": [
        "print(X_train.shape, y_train.shape)"
      ],
      "metadata": {
        "id": "EpWN1dXeEDc7",
        "colab": {
          "base_uri": "https://localhost:8080/"
        },
        "outputId": "f397c102-6fcf-4116-df48-46f3d5f6d128"
      },
      "execution_count": null,
      "outputs": [
        {
          "output_type": "stream",
          "name": "stdout",
          "text": [
            "(613, 128, 130) (613,)\n"
          ]
        }
      ]
    },
    {
      "cell_type": "code",
      "source": [
        "x_traincnn = np.expand_dims(X_train, axis=3)\n",
        "x_testcnn = np.expand_dims(X_test, axis=3)"
      ],
      "metadata": {
        "id": "57PbpaXGEDY-"
      },
      "execution_count": null,
      "outputs": []
    },
    {
      "cell_type": "code",
      "source": [
        "x_traincnn.shape"
      ],
      "metadata": {
        "id": "e7CCJfnNEDXa",
        "colab": {
          "base_uri": "https://localhost:8080/"
        },
        "outputId": "2d13a215-036a-4a88-9f00-72638c651364"
      },
      "execution_count": null,
      "outputs": [
        {
          "output_type": "execute_result",
          "data": {
            "text/plain": [
              "(613, 128, 130, 1)"
            ]
          },
          "metadata": {},
          "execution_count": 14
        }
      ]
    },
    {
      "cell_type": "code",
      "source": [
        "input_shape = x_traincnn.shape[1:]\n",
        "num_classes = 4\n",
        "input_shape"
      ],
      "metadata": {
        "id": "yN5QpUP1EDWs",
        "colab": {
          "base_uri": "https://localhost:8080/"
        },
        "outputId": "5bcb823b-b56d-4ecf-9d3f-d374ddba1109"
      },
      "execution_count": null,
      "outputs": [
        {
          "output_type": "execute_result",
          "data": {
            "text/plain": [
              "(128, 130, 1)"
            ]
          },
          "metadata": {},
          "execution_count": 15
        }
      ]
    },
    {
      "cell_type": "code",
      "source": [
        "def create_model(input_shape, num_classes):\n",
        "    model = models.Sequential()\n",
        "    model.add(layers.Conv2D(32, kernel_size=(3, 3), activation='relu', input_shape=input_shape))\n",
        "    model.add(layers.MaxPooling2D(pool_size=(2, 2)))\n",
        "    model.add(layers.Conv2D(64, kernel_size=(3, 3), activation='relu'))\n",
        "    model.add(layers.MaxPooling2D(pool_size=(2, 2)))\n",
        "    model.add(layers.Flatten())\n",
        "    model.add(layers.Dense(128, activation='relu'))\n",
        "    model.add(layers.Dropout(0.5))\n",
        "    model.add(layers.Dense(num_classes, activation='softmax'))\n",
        "    return model"
      ],
      "metadata": {
        "id": "Rznwt04BEDSR"
      },
      "execution_count": null,
      "outputs": []
    },
    {
      "cell_type": "code",
      "source": [
        "model = create_model(input_shape,num_classes)\n",
        "model.summary()"
      ],
      "metadata": {
        "id": "ml7uTkkHEDP_",
        "colab": {
          "base_uri": "https://localhost:8080/"
        },
        "outputId": "8107adad-7807-45e6-ea90-7ec5bbabe1e8"
      },
      "execution_count": null,
      "outputs": [
        {
          "output_type": "stream",
          "name": "stdout",
          "text": [
            "Model: \"sequential\"\n",
            "_________________________________________________________________\n",
            " Layer (type)                Output Shape              Param #   \n",
            "=================================================================\n",
            " conv2d (Conv2D)             (None, 126, 128, 32)      320       \n",
            "                                                                 \n",
            " max_pooling2d (MaxPooling2D  (None, 63, 64, 32)       0         \n",
            " )                                                               \n",
            "                                                                 \n",
            " conv2d_1 (Conv2D)           (None, 61, 62, 64)        18496     \n",
            "                                                                 \n",
            " max_pooling2d_1 (MaxPooling  (None, 30, 31, 64)       0         \n",
            " 2D)                                                             \n",
            "                                                                 \n",
            " flatten (Flatten)           (None, 59520)             0         \n",
            "                                                                 \n",
            " dense (Dense)               (None, 128)               7618688   \n",
            "                                                                 \n",
            " dropout (Dropout)           (None, 128)               0         \n",
            "                                                                 \n",
            " dense_1 (Dense)             (None, 4)                 516       \n",
            "                                                                 \n",
            "=================================================================\n",
            "Total params: 7,638,020\n",
            "Trainable params: 7,638,020\n",
            "Non-trainable params: 0\n",
            "_________________________________________________________________\n"
          ]
        }
      ]
    },
    {
      "cell_type": "code",
      "source": [
        "model.compile(optimizer='adam', loss='sparse_categorical_crossentropy', metrics=['accuracy'])"
      ],
      "metadata": {
        "id": "QP4qIjmCEDO0"
      },
      "execution_count": null,
      "outputs": []
    },
    {
      "cell_type": "code",
      "source": [
        "cnnhistory = model.fit(x_traincnn, y_train, batch_size=16, \n",
        "                       epochs=100, validation_data=(x_testcnn, y_test))"
      ],
      "metadata": {
        "id": "LOTxrydEEDLY",
        "colab": {
          "base_uri": "https://localhost:8080/"
        },
        "outputId": "5a1580b3-36a1-4a61-cf7e-f976e94dd9e6"
      },
      "execution_count": null,
      "outputs": [
        {
          "output_type": "stream",
          "name": "stdout",
          "text": [
            "Epoch 1/100\n",
            "39/39 [==============================] - 20s 472ms/step - loss: 26.9134 - accuracy: 0.3100 - val_loss: 1.0756 - val_accuracy: 0.5584\n",
            "Epoch 2/100\n",
            "39/39 [==============================] - 18s 458ms/step - loss: 1.0802 - accuracy: 0.5644 - val_loss: 0.8122 - val_accuracy: 0.6558\n",
            "Epoch 3/100\n",
            "39/39 [==============================] - 19s 470ms/step - loss: 0.6913 - accuracy: 0.7129 - val_loss: 0.7617 - val_accuracy: 0.6623\n",
            "Epoch 4/100\n",
            "39/39 [==============================] - 17s 443ms/step - loss: 0.7094 - accuracy: 0.7455 - val_loss: 0.7657 - val_accuracy: 0.7013\n",
            "Epoch 5/100\n",
            "39/39 [==============================] - 17s 449ms/step - loss: 0.4332 - accuracy: 0.8467 - val_loss: 0.7583 - val_accuracy: 0.6883\n",
            "Epoch 6/100\n",
            "39/39 [==============================] - 19s 486ms/step - loss: 0.2823 - accuracy: 0.8989 - val_loss: 0.7253 - val_accuracy: 0.7273\n",
            "Epoch 7/100\n",
            "39/39 [==============================] - 17s 444ms/step - loss: 0.1891 - accuracy: 0.9429 - val_loss: 0.8114 - val_accuracy: 0.7013\n",
            "Epoch 8/100\n",
            "39/39 [==============================] - 19s 475ms/step - loss: 0.1701 - accuracy: 0.9364 - val_loss: 1.0217 - val_accuracy: 0.6818\n",
            "Epoch 9/100\n",
            "39/39 [==============================] - 17s 443ms/step - loss: 0.1506 - accuracy: 0.9511 - val_loss: 0.9902 - val_accuracy: 0.7338\n",
            "Epoch 10/100\n",
            "39/39 [==============================] - 17s 445ms/step - loss: 0.0835 - accuracy: 0.9690 - val_loss: 1.2482 - val_accuracy: 0.7273\n",
            "Epoch 11/100\n",
            "39/39 [==============================] - 17s 448ms/step - loss: 0.0955 - accuracy: 0.9739 - val_loss: 0.9145 - val_accuracy: 0.7403\n",
            "Epoch 12/100\n",
            "39/39 [==============================] - 19s 480ms/step - loss: 0.0548 - accuracy: 0.9821 - val_loss: 1.0224 - val_accuracy: 0.7468\n",
            "Epoch 13/100\n",
            "39/39 [==============================] - 17s 435ms/step - loss: 0.0398 - accuracy: 0.9853 - val_loss: 0.9202 - val_accuracy: 0.7532\n",
            "Epoch 14/100\n",
            "39/39 [==============================] - 17s 444ms/step - loss: 0.0427 - accuracy: 0.9886 - val_loss: 1.0817 - val_accuracy: 0.7273\n",
            "Epoch 15/100\n",
            "39/39 [==============================] - 17s 447ms/step - loss: 0.0644 - accuracy: 0.9804 - val_loss: 1.1704 - val_accuracy: 0.7078\n",
            "Epoch 16/100\n",
            "39/39 [==============================] - 17s 447ms/step - loss: 0.0590 - accuracy: 0.9821 - val_loss: 0.9931 - val_accuracy: 0.7338\n",
            "Epoch 17/100\n",
            "39/39 [==============================] - 19s 487ms/step - loss: 0.0736 - accuracy: 0.9755 - val_loss: 1.0370 - val_accuracy: 0.7273\n",
            "Epoch 18/100\n",
            "39/39 [==============================] - 19s 488ms/step - loss: 0.0292 - accuracy: 0.9902 - val_loss: 1.1017 - val_accuracy: 0.7597\n",
            "Epoch 19/100\n",
            "39/39 [==============================] - 18s 452ms/step - loss: 0.0303 - accuracy: 0.9853 - val_loss: 1.0516 - val_accuracy: 0.7338\n",
            "Epoch 20/100\n",
            "39/39 [==============================] - 18s 468ms/step - loss: 0.0532 - accuracy: 0.9853 - val_loss: 1.0585 - val_accuracy: 0.7403\n",
            "Epoch 21/100\n",
            "39/39 [==============================] - 20s 503ms/step - loss: 0.0210 - accuracy: 0.9918 - val_loss: 1.1005 - val_accuracy: 0.7792\n",
            "Epoch 22/100\n",
            "39/39 [==============================] - 18s 470ms/step - loss: 0.0194 - accuracy: 0.9935 - val_loss: 1.0747 - val_accuracy: 0.7597\n",
            "Epoch 23/100\n",
            "39/39 [==============================] - 18s 457ms/step - loss: 0.0165 - accuracy: 0.9902 - val_loss: 1.4854 - val_accuracy: 0.7273\n",
            "Epoch 24/100\n",
            "39/39 [==============================] - 18s 458ms/step - loss: 0.0081 - accuracy: 0.9984 - val_loss: 1.4120 - val_accuracy: 0.7532\n",
            "Epoch 25/100\n",
            "39/39 [==============================] - 19s 490ms/step - loss: 0.0207 - accuracy: 0.9951 - val_loss: 1.1370 - val_accuracy: 0.7597\n",
            "Epoch 26/100\n",
            "39/39 [==============================] - 18s 461ms/step - loss: 0.0093 - accuracy: 0.9984 - val_loss: 1.3251 - val_accuracy: 0.7468\n",
            "Epoch 27/100\n",
            "39/39 [==============================] - 18s 459ms/step - loss: 0.0105 - accuracy: 0.9984 - val_loss: 1.2654 - val_accuracy: 0.7403\n",
            "Epoch 28/100\n",
            "39/39 [==============================] - 18s 465ms/step - loss: 0.0070 - accuracy: 1.0000 - val_loss: 1.3689 - val_accuracy: 0.7792\n",
            "Epoch 29/100\n",
            "39/39 [==============================] - 22s 556ms/step - loss: 0.0061 - accuracy: 0.9984 - val_loss: 1.2686 - val_accuracy: 0.7597\n",
            "Epoch 30/100\n",
            "39/39 [==============================] - 18s 457ms/step - loss: 0.0140 - accuracy: 0.9951 - val_loss: 1.2590 - val_accuracy: 0.7468\n",
            "Epoch 31/100\n",
            "39/39 [==============================] - 17s 450ms/step - loss: 0.0220 - accuracy: 0.9951 - val_loss: 1.1154 - val_accuracy: 0.7403\n",
            "Epoch 32/100\n",
            "39/39 [==============================] - 18s 456ms/step - loss: 0.0598 - accuracy: 0.9853 - val_loss: 1.4118 - val_accuracy: 0.7338\n",
            "Epoch 33/100\n",
            "39/39 [==============================] - 20s 514ms/step - loss: 0.0272 - accuracy: 0.9918 - val_loss: 1.2215 - val_accuracy: 0.7597\n",
            "Epoch 34/100\n",
            "39/39 [==============================] - 18s 464ms/step - loss: 0.0093 - accuracy: 0.9951 - val_loss: 1.3854 - val_accuracy: 0.7403\n",
            "Epoch 35/100\n",
            "39/39 [==============================] - 18s 453ms/step - loss: 0.0132 - accuracy: 0.9951 - val_loss: 1.4482 - val_accuracy: 0.7403\n",
            "Epoch 36/100\n",
            "39/39 [==============================] - 18s 460ms/step - loss: 0.0612 - accuracy: 0.9755 - val_loss: 1.5985 - val_accuracy: 0.7143\n",
            "Epoch 37/100\n",
            "39/39 [==============================] - 19s 489ms/step - loss: 0.0219 - accuracy: 0.9902 - val_loss: 1.9949 - val_accuracy: 0.7273\n",
            "Epoch 38/100\n",
            "39/39 [==============================] - 17s 451ms/step - loss: 0.0272 - accuracy: 0.9951 - val_loss: 1.3929 - val_accuracy: 0.7338\n",
            "Epoch 39/100\n",
            "39/39 [==============================] - 18s 463ms/step - loss: 0.0258 - accuracy: 0.9935 - val_loss: 1.5747 - val_accuracy: 0.7597\n",
            "Epoch 40/100\n",
            "39/39 [==============================] - 19s 487ms/step - loss: 0.0214 - accuracy: 0.9918 - val_loss: 1.6266 - val_accuracy: 0.7338\n",
            "Epoch 41/100\n",
            "39/39 [==============================] - 21s 526ms/step - loss: 0.1091 - accuracy: 0.9657 - val_loss: 1.2391 - val_accuracy: 0.7013\n",
            "Epoch 42/100\n",
            "39/39 [==============================] - 17s 439ms/step - loss: 0.0352 - accuracy: 0.9886 - val_loss: 1.3030 - val_accuracy: 0.7143\n",
            "Epoch 43/100\n",
            "39/39 [==============================] - 18s 463ms/step - loss: 0.0116 - accuracy: 0.9967 - val_loss: 1.3866 - val_accuracy: 0.7273\n",
            "Epoch 44/100\n",
            "39/39 [==============================] - 18s 465ms/step - loss: 0.0291 - accuracy: 0.9886 - val_loss: 1.7163 - val_accuracy: 0.7208\n",
            "Epoch 45/100\n",
            "39/39 [==============================] - 20s 510ms/step - loss: 0.0144 - accuracy: 0.9951 - val_loss: 1.7596 - val_accuracy: 0.7013\n",
            "Epoch 46/100\n",
            "39/39 [==============================] - 18s 464ms/step - loss: 0.0264 - accuracy: 0.9918 - val_loss: 1.5132 - val_accuracy: 0.7078\n",
            "Epoch 47/100\n",
            "39/39 [==============================] - 18s 463ms/step - loss: 0.0222 - accuracy: 0.9967 - val_loss: 1.4540 - val_accuracy: 0.7273\n",
            "Epoch 48/100\n",
            "39/39 [==============================] - 18s 462ms/step - loss: 0.0047 - accuracy: 1.0000 - val_loss: 1.5414 - val_accuracy: 0.7338\n",
            "Epoch 49/100\n",
            "39/39 [==============================] - 20s 498ms/step - loss: 0.0137 - accuracy: 0.9967 - val_loss: 1.4949 - val_accuracy: 0.7078\n",
            "Epoch 50/100\n",
            "39/39 [==============================] - 18s 455ms/step - loss: 0.0071 - accuracy: 0.9984 - val_loss: 1.6581 - val_accuracy: 0.7143\n",
            "Epoch 51/100\n",
            "39/39 [==============================] - 18s 464ms/step - loss: 0.0090 - accuracy: 0.9935 - val_loss: 1.5437 - val_accuracy: 0.7273\n",
            "Epoch 52/100\n",
            "39/39 [==============================] - 19s 503ms/step - loss: 0.0072 - accuracy: 0.9967 - val_loss: 1.7412 - val_accuracy: 0.7597\n",
            "Epoch 53/100\n",
            "39/39 [==============================] - 18s 466ms/step - loss: 0.0529 - accuracy: 0.9869 - val_loss: 1.4827 - val_accuracy: 0.7143\n",
            "Epoch 54/100\n",
            "39/39 [==============================] - 19s 474ms/step - loss: 0.1507 - accuracy: 0.9429 - val_loss: 1.6169 - val_accuracy: 0.7013\n",
            "Epoch 55/100\n",
            "39/39 [==============================] - 18s 467ms/step - loss: 0.1285 - accuracy: 0.9641 - val_loss: 2.1932 - val_accuracy: 0.7338\n",
            "Epoch 56/100\n",
            "39/39 [==============================] - 18s 454ms/step - loss: 0.0663 - accuracy: 0.9772 - val_loss: 1.6811 - val_accuracy: 0.6688\n",
            "Epoch 57/100\n",
            "39/39 [==============================] - 18s 465ms/step - loss: 0.0536 - accuracy: 0.9788 - val_loss: 1.9629 - val_accuracy: 0.6948\n",
            "Epoch 58/100\n",
            "39/39 [==============================] - 19s 487ms/step - loss: 0.0159 - accuracy: 0.9918 - val_loss: 1.9226 - val_accuracy: 0.7468\n",
            "Epoch 59/100\n",
            "39/39 [==============================] - 18s 465ms/step - loss: 0.0201 - accuracy: 0.9918 - val_loss: 2.1276 - val_accuracy: 0.7403\n",
            "Epoch 60/100\n",
            "39/39 [==============================] - 18s 466ms/step - loss: 0.0214 - accuracy: 0.9935 - val_loss: 1.6255 - val_accuracy: 0.7338\n",
            "Epoch 61/100\n",
            "39/39 [==============================] - 18s 467ms/step - loss: 0.0170 - accuracy: 0.9918 - val_loss: 1.7496 - val_accuracy: 0.7597\n",
            "Epoch 62/100\n",
            "39/39 [==============================] - 19s 481ms/step - loss: 0.0056 - accuracy: 0.9984 - val_loss: 1.8015 - val_accuracy: 0.7468\n",
            "Epoch 63/100\n",
            "39/39 [==============================] - 20s 519ms/step - loss: 0.0145 - accuracy: 0.9984 - val_loss: 1.8367 - val_accuracy: 0.7727\n",
            "Epoch 64/100\n",
            "39/39 [==============================] - 18s 472ms/step - loss: 0.0118 - accuracy: 0.9951 - val_loss: 1.6637 - val_accuracy: 0.7338\n",
            "Epoch 65/100\n",
            "39/39 [==============================] - 20s 518ms/step - loss: 0.0546 - accuracy: 0.9739 - val_loss: 1.5405 - val_accuracy: 0.7208\n",
            "Epoch 66/100\n",
            "39/39 [==============================] - 18s 459ms/step - loss: 1.3323 - accuracy: 0.8434 - val_loss: 1.9019 - val_accuracy: 0.6688\n",
            "Epoch 67/100\n",
            "39/39 [==============================] - 18s 453ms/step - loss: 0.2240 - accuracy: 0.9119 - val_loss: 1.3425 - val_accuracy: 0.7013\n",
            "Epoch 68/100\n",
            "39/39 [==============================] - 17s 445ms/step - loss: 0.0775 - accuracy: 0.9674 - val_loss: 1.2471 - val_accuracy: 0.7078\n",
            "Epoch 69/100\n",
            "39/39 [==============================] - 20s 506ms/step - loss: 0.0548 - accuracy: 0.9739 - val_loss: 1.4324 - val_accuracy: 0.7662\n",
            "Epoch 70/100\n",
            "39/39 [==============================] - 18s 467ms/step - loss: 0.0583 - accuracy: 0.9772 - val_loss: 1.3419 - val_accuracy: 0.7078\n",
            "Epoch 71/100\n",
            "39/39 [==============================] - 18s 474ms/step - loss: 0.0575 - accuracy: 0.9853 - val_loss: 1.4835 - val_accuracy: 0.7532\n",
            "Epoch 72/100\n",
            "39/39 [==============================] - 18s 472ms/step - loss: 0.0648 - accuracy: 0.9755 - val_loss: 1.6224 - val_accuracy: 0.7338\n",
            "Epoch 73/100\n",
            "39/39 [==============================] - 20s 524ms/step - loss: 0.0552 - accuracy: 0.9772 - val_loss: 1.5902 - val_accuracy: 0.7338\n",
            "Epoch 74/100\n",
            "39/39 [==============================] - 20s 510ms/step - loss: 0.0302 - accuracy: 0.9918 - val_loss: 1.7084 - val_accuracy: 0.7792\n",
            "Epoch 75/100\n",
            "39/39 [==============================] - 18s 462ms/step - loss: 0.0490 - accuracy: 0.9821 - val_loss: 1.4459 - val_accuracy: 0.7143\n",
            "Epoch 76/100\n",
            "39/39 [==============================] - 20s 509ms/step - loss: 0.0300 - accuracy: 0.9853 - val_loss: 1.7976 - val_accuracy: 0.7208\n",
            "Epoch 77/100\n",
            "39/39 [==============================] - 18s 461ms/step - loss: 0.0379 - accuracy: 0.9918 - val_loss: 1.6741 - val_accuracy: 0.7597\n",
            "Epoch 78/100\n",
            "39/39 [==============================] - 18s 469ms/step - loss: 0.0127 - accuracy: 0.9984 - val_loss: 1.7990 - val_accuracy: 0.7013\n",
            "Epoch 79/100\n",
            "39/39 [==============================] - 17s 447ms/step - loss: 0.0249 - accuracy: 0.9951 - val_loss: 1.6214 - val_accuracy: 0.7597\n",
            "Epoch 80/100\n",
            "39/39 [==============================] - 21s 547ms/step - loss: 0.0240 - accuracy: 0.9902 - val_loss: 1.8181 - val_accuracy: 0.7468\n",
            "Epoch 81/100\n",
            "39/39 [==============================] - 18s 455ms/step - loss: 0.0198 - accuracy: 0.9918 - val_loss: 1.7053 - val_accuracy: 0.7143\n",
            "Epoch 82/100\n",
            "39/39 [==============================] - 18s 462ms/step - loss: 0.0282 - accuracy: 0.9951 - val_loss: 1.6752 - val_accuracy: 0.7403\n",
            "Epoch 83/100\n",
            "39/39 [==============================] - 18s 471ms/step - loss: 0.0163 - accuracy: 0.9951 - val_loss: 1.9894 - val_accuracy: 0.7792\n",
            "Epoch 84/100\n",
            "39/39 [==============================] - 19s 483ms/step - loss: 0.0327 - accuracy: 0.9902 - val_loss: 1.7444 - val_accuracy: 0.6883\n",
            "Epoch 85/100\n",
            "39/39 [==============================] - 20s 505ms/step - loss: 0.0184 - accuracy: 0.9918 - val_loss: 1.6827 - val_accuracy: 0.7338\n",
            "Epoch 86/100\n",
            "39/39 [==============================] - 18s 469ms/step - loss: 0.0048 - accuracy: 1.0000 - val_loss: 1.8748 - val_accuracy: 0.7403\n",
            "Epoch 87/100\n",
            "39/39 [==============================] - 20s 526ms/step - loss: 0.0047 - accuracy: 1.0000 - val_loss: 1.8904 - val_accuracy: 0.7532\n",
            "Epoch 88/100\n",
            "39/39 [==============================] - 18s 459ms/step - loss: 0.0073 - accuracy: 0.9967 - val_loss: 1.8885 - val_accuracy: 0.7662\n",
            "Epoch 89/100\n",
            "39/39 [==============================] - 18s 458ms/step - loss: 0.0198 - accuracy: 0.9951 - val_loss: 1.8083 - val_accuracy: 0.7532\n",
            "Epoch 90/100\n",
            "39/39 [==============================] - 18s 458ms/step - loss: 0.0117 - accuracy: 0.9951 - val_loss: 1.7407 - val_accuracy: 0.7273\n",
            "Epoch 91/100\n",
            "39/39 [==============================] - 19s 487ms/step - loss: 0.0047 - accuracy: 1.0000 - val_loss: 1.8727 - val_accuracy: 0.7532\n",
            "Epoch 92/100\n",
            "39/39 [==============================] - 18s 467ms/step - loss: 0.0052 - accuracy: 0.9967 - val_loss: 1.9169 - val_accuracy: 0.7662\n",
            "Epoch 93/100\n",
            "39/39 [==============================] - 18s 457ms/step - loss: 0.0145 - accuracy: 0.9967 - val_loss: 1.7958 - val_accuracy: 0.7403\n",
            "Epoch 94/100\n",
            "39/39 [==============================] - 18s 461ms/step - loss: 0.0064 - accuracy: 0.9984 - val_loss: 1.8267 - val_accuracy: 0.7338\n",
            "Epoch 95/100\n",
            "39/39 [==============================] - 19s 487ms/step - loss: 0.0070 - accuracy: 0.9984 - val_loss: 2.0679 - val_accuracy: 0.7532\n",
            "Epoch 96/100\n",
            "39/39 [==============================] - 21s 530ms/step - loss: 0.0079 - accuracy: 0.9967 - val_loss: 1.8033 - val_accuracy: 0.7403\n",
            "Epoch 97/100\n",
            "39/39 [==============================] - 18s 470ms/step - loss: 0.0058 - accuracy: 0.9984 - val_loss: 1.9052 - val_accuracy: 0.7468\n",
            "Epoch 98/100\n",
            "39/39 [==============================] - 18s 466ms/step - loss: 0.0032 - accuracy: 1.0000 - val_loss: 2.0520 - val_accuracy: 0.7403\n",
            "Epoch 99/100\n",
            "39/39 [==============================] - 19s 481ms/step - loss: 0.0041 - accuracy: 0.9984 - val_loss: 1.8881 - val_accuracy: 0.7338\n",
            "Epoch 100/100\n",
            "39/39 [==============================] - 18s 460ms/step - loss: 0.0039 - accuracy: 0.9984 - val_loss: 1.8606 - val_accuracy: 0.7338\n"
          ]
        }
      ]
    },
    {
      "cell_type": "code",
      "source": [
        "plt.figure(figsize=(6,5))\n",
        "plt.plot(cnnhistory.history['accuracy'])\n",
        "plt.plot(cnnhistory.history['val_accuracy'])\n",
        "plt.title('model accuracy')\n",
        "plt.ylabel('accuracy')\n",
        "plt.xlabel('epoch')\n",
        "plt.legend(['train', 'val'], loc='lower right')\n",
        "plt.grid()\n",
        "plt.show()"
      ],
      "metadata": {
        "id": "BrnfhKpsEDJ4",
        "colab": {
          "base_uri": "https://localhost:8080/",
          "height": 487
        },
        "outputId": "eaf1879e-8cca-4616-f65f-c338bbcc1e1f"
      },
      "execution_count": null,
      "outputs": [
        {
          "output_type": "display_data",
          "data": {
            "text/plain": [
              "<Figure size 600x500 with 1 Axes>"
            ],
            "image/png": "[encoded data removed]"
          },
          "metadata": {}
        }
      ]
    },
    {
      "cell_type": "code",
      "source": [
        "plt.figure(figsize=(6,5))\n",
        "plt.plot(cnnhistory.history['loss'],'blue')\n",
        "plt.plot(cnnhistory.history['val_loss'],'green')\n",
        "plt.title('model loss')\n",
        "plt.ylabel('Cross Entropy loss')\n",
        "plt.xlabel('epoch')\n",
        "plt.legend(['train', 'val'], loc='upper right')\n",
        "plt.grid()\n",
        "plt.show()"
      ],
      "metadata": {
        "id": "2I10g95lEDG_",
        "colab": {
          "base_uri": "https://localhost:8080/",
          "height": 487
        },
        "outputId": "2e3c10b9-a21b-4d1b-b697-6cc86cedce61"
      },
      "execution_count": null,
      "outputs": [
        {
          "output_type": "display_data",
          "data": {
            "text/plain": [
              "<Figure size 600x500 with 1 Axes>"
            ],
            "image/png": "[encoded data removed]"
          },
          "metadata": {}
        }
      ]
    },
    {
      "cell_type": "code",
      "source": [
        "test_loss, test_acc = model.evaluate(x_testcnn, y_test)\n",
        "print('Test accuracy:', test_acc)"
      ],
      "metadata": {
        "id": "xto1PLmsEDEh",
        "colab": {
          "base_uri": "https://localhost:8080/"
        },
        "outputId": "b957106e-f5a0-4894-872c-75e50002eea6"
      },
      "execution_count": null,
      "outputs": [
        {
          "output_type": "stream",
          "name": "stdout",
          "text": [
            "5/5 [==============================] - 1s 175ms/step - loss: 1.8606 - accuracy: 0.7338\n",
            "Test accuracy: 0.7337662577629089\n"
          ]
        }
      ]
    },
    {
      "cell_type": "code",
      "source": [
        "from sklearn.metrics import ConfusionMatrixDisplay, accuracy_score as acc\n",
        "def showConfMatrix(y_test,y_pred):\n",
        "    ConfusionMatrixDisplay.from_predictions(y_test,y_pred,\n",
        "                                                colorbar=False,\n",
        "                                                cmap=plt.cm.Blues,\n",
        "                                                xticks_rotation=45,\n",
        "                                                display_labels=['angry','calm','fearful','disgust'])"
      ],
      "metadata": {
        "id": "tW8HXAYsEDBx"
      },
      "execution_count": null,
      "outputs": []
    },
    {
      "cell_type": "code",
      "source": [
        "y_pred = np.argmax(model.predict(x_testcnn),axis=1)\n",
        "showConfMatrix(y_test,y_pred)"
      ],
      "metadata": {
        "id": "oxHzf1KIEnAD",
        "colab": {
          "base_uri": "https://localhost:8080/",
          "height": 498
        },
        "outputId": "8eff32b4-3226-457f-f309-695a90d92106"
      },
      "execution_count": null,
      "outputs": [
        {
          "output_type": "stream",
          "name": "stdout",
          "text": [
            "5/5 [==============================] - 1s 177ms/step\n"
          ]
        },
        {
          "output_type": "display_data",
          "data": {
            "text/plain": [
              "<Figure size 640x480 with 1 Axes>"
            ],
            "image/png": "[encoded data removed]"
          },
          "metadata": {}
        }
      ]
    }
  ]
}